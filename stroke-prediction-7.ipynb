{
 "cells": [
  {
   "cell_type": "code",
   "execution_count": 1,
   "id": "c7756ca8",
   "metadata": {
    "execution": {
     "iopub.execute_input": "2023-10-16T15:08:10.938842Z",
     "iopub.status.busy": "2023-10-16T15:08:10.938116Z",
     "iopub.status.idle": "2023-10-16T15:08:13.962101Z",
     "shell.execute_reply": "2023-10-16T15:08:13.960720Z"
    },
    "papermill": {
     "duration": 3.037135,
     "end_time": "2023-10-16T15:08:13.965143",
     "exception": false,
     "start_time": "2023-10-16T15:08:10.928008",
     "status": "completed"
    },
    "tags": []
   },
   "outputs": [],
   "source": [
    "import numpy as np\n",
    "import pandas as pd\n",
    "import matplotlib.pyplot as plt\n",
    "import lightgbm as lgb\n",
    "\n",
    "from sklearn.metrics import accuracy_score, roc_auc_score\n",
    "from sklearn.model_selection import ( \n",
    "     \n",
    "    TimeSeriesSplit,\n",
    "    KFold,\n",
    "    StratifiedKFold,\n",
    "    GroupKFold,\n",
    "    StratifiedGroupKFold\n",
    "    \n",
    "    \n",
    ")"
   ]
  },
  {
   "cell_type": "markdown",
   "id": "40f21964",
   "metadata": {
    "papermill": {
     "duration": 0.005831,
     "end_time": "2023-10-16T15:08:13.977557",
     "exception": false,
     "start_time": "2023-10-16T15:08:13.971726",
     "status": "completed"
    },
    "tags": []
   },
   "source": [
    "DataSet"
   ]
  },
  {
   "cell_type": "code",
   "execution_count": 2,
   "id": "23f3c0a0",
   "metadata": {
    "execution": {
     "iopub.execute_input": "2023-10-16T15:08:13.992316Z",
     "iopub.status.busy": "2023-10-16T15:08:13.991536Z",
     "iopub.status.idle": "2023-10-16T15:08:14.034117Z",
     "shell.execute_reply": "2023-10-16T15:08:14.033080Z"
    },
    "papermill": {
     "duration": 0.053055,
     "end_time": "2023-10-16T15:08:14.036669",
     "exception": false,
     "start_time": "2023-10-16T15:08:13.983614",
     "status": "completed"
    },
    "tags": []
   },
   "outputs": [],
   "source": [
    "data = pd.read_csv(\"/kaggle/input/stroke-prediction-dataset/healthcare-dataset-stroke-data.csv\")"
   ]
  },
  {
   "cell_type": "code",
   "execution_count": 3,
   "id": "9c5aa2d5",
   "metadata": {
    "execution": {
     "iopub.execute_input": "2023-10-16T15:08:14.053879Z",
     "iopub.status.busy": "2023-10-16T15:08:14.052615Z",
     "iopub.status.idle": "2023-10-16T15:08:14.062230Z",
     "shell.execute_reply": "2023-10-16T15:08:14.060926Z"
    },
    "papermill": {
     "duration": 0.021319,
     "end_time": "2023-10-16T15:08:14.064752",
     "exception": false,
     "start_time": "2023-10-16T15:08:14.043433",
     "status": "completed"
    },
    "tags": []
   },
   "outputs": [
    {
     "data": {
      "text/plain": [
       "(5110, 12)"
      ]
     },
     "execution_count": 3,
     "metadata": {},
     "output_type": "execute_result"
    }
   ],
   "source": [
    "data.shape"
   ]
  },
  {
   "cell_type": "markdown",
   "id": "f0fce200",
   "metadata": {
    "papermill": {
     "duration": 0.006891,
     "end_time": "2023-10-16T15:08:14.078314",
     "exception": false,
     "start_time": "2023-10-16T15:08:14.071423",
     "status": "completed"
    },
    "tags": []
   },
   "source": []
  },
  {
   "cell_type": "code",
   "execution_count": 4,
   "id": "f43719dc",
   "metadata": {
    "execution": {
     "iopub.execute_input": "2023-10-16T15:08:14.093241Z",
     "iopub.status.busy": "2023-10-16T15:08:14.092560Z",
     "iopub.status.idle": "2023-10-16T15:08:14.120438Z",
     "shell.execute_reply": "2023-10-16T15:08:14.119340Z"
    },
    "papermill": {
     "duration": 0.037886,
     "end_time": "2023-10-16T15:08:14.122691",
     "exception": false,
     "start_time": "2023-10-16T15:08:14.084805",
     "status": "completed"
    },
    "tags": []
   },
   "outputs": [
    {
     "data": {
      "text/html": [
       "<div>\n",
       "<style scoped>\n",
       "    .dataframe tbody tr th:only-of-type {\n",
       "        vertical-align: middle;\n",
       "    }\n",
       "\n",
       "    .dataframe tbody tr th {\n",
       "        vertical-align: top;\n",
       "    }\n",
       "\n",
       "    .dataframe thead th {\n",
       "        text-align: right;\n",
       "    }\n",
       "</style>\n",
       "<table border=\"1\" class=\"dataframe\">\n",
       "  <thead>\n",
       "    <tr style=\"text-align: right;\">\n",
       "      <th></th>\n",
       "      <th>id</th>\n",
       "      <th>gender</th>\n",
       "      <th>age</th>\n",
       "      <th>hypertension</th>\n",
       "      <th>heart_disease</th>\n",
       "      <th>ever_married</th>\n",
       "      <th>work_type</th>\n",
       "      <th>Residence_type</th>\n",
       "      <th>avg_glucose_level</th>\n",
       "      <th>bmi</th>\n",
       "      <th>smoking_status</th>\n",
       "      <th>stroke</th>\n",
       "    </tr>\n",
       "  </thead>\n",
       "  <tbody>\n",
       "    <tr>\n",
       "      <th>0</th>\n",
       "      <td>9046</td>\n",
       "      <td>Male</td>\n",
       "      <td>67.0</td>\n",
       "      <td>0</td>\n",
       "      <td>1</td>\n",
       "      <td>Yes</td>\n",
       "      <td>Private</td>\n",
       "      <td>Urban</td>\n",
       "      <td>228.69</td>\n",
       "      <td>36.6</td>\n",
       "      <td>formerly smoked</td>\n",
       "      <td>1</td>\n",
       "    </tr>\n",
       "    <tr>\n",
       "      <th>1</th>\n",
       "      <td>51676</td>\n",
       "      <td>Female</td>\n",
       "      <td>61.0</td>\n",
       "      <td>0</td>\n",
       "      <td>0</td>\n",
       "      <td>Yes</td>\n",
       "      <td>Self-employed</td>\n",
       "      <td>Rural</td>\n",
       "      <td>202.21</td>\n",
       "      <td>NaN</td>\n",
       "      <td>never smoked</td>\n",
       "      <td>1</td>\n",
       "    </tr>\n",
       "    <tr>\n",
       "      <th>2</th>\n",
       "      <td>31112</td>\n",
       "      <td>Male</td>\n",
       "      <td>80.0</td>\n",
       "      <td>0</td>\n",
       "      <td>1</td>\n",
       "      <td>Yes</td>\n",
       "      <td>Private</td>\n",
       "      <td>Rural</td>\n",
       "      <td>105.92</td>\n",
       "      <td>32.5</td>\n",
       "      <td>never smoked</td>\n",
       "      <td>1</td>\n",
       "    </tr>\n",
       "    <tr>\n",
       "      <th>3</th>\n",
       "      <td>60182</td>\n",
       "      <td>Female</td>\n",
       "      <td>49.0</td>\n",
       "      <td>0</td>\n",
       "      <td>0</td>\n",
       "      <td>Yes</td>\n",
       "      <td>Private</td>\n",
       "      <td>Urban</td>\n",
       "      <td>171.23</td>\n",
       "      <td>34.4</td>\n",
       "      <td>smokes</td>\n",
       "      <td>1</td>\n",
       "    </tr>\n",
       "    <tr>\n",
       "      <th>4</th>\n",
       "      <td>1665</td>\n",
       "      <td>Female</td>\n",
       "      <td>79.0</td>\n",
       "      <td>1</td>\n",
       "      <td>0</td>\n",
       "      <td>Yes</td>\n",
       "      <td>Self-employed</td>\n",
       "      <td>Rural</td>\n",
       "      <td>174.12</td>\n",
       "      <td>24.0</td>\n",
       "      <td>never smoked</td>\n",
       "      <td>1</td>\n",
       "    </tr>\n",
       "  </tbody>\n",
       "</table>\n",
       "</div>"
      ],
      "text/plain": [
       "      id  gender   age  hypertension  heart_disease ever_married  \\\n",
       "0   9046    Male  67.0             0              1          Yes   \n",
       "1  51676  Female  61.0             0              0          Yes   \n",
       "2  31112    Male  80.0             0              1          Yes   \n",
       "3  60182  Female  49.0             0              0          Yes   \n",
       "4   1665  Female  79.0             1              0          Yes   \n",
       "\n",
       "       work_type Residence_type  avg_glucose_level   bmi   smoking_status  \\\n",
       "0        Private          Urban             228.69  36.6  formerly smoked   \n",
       "1  Self-employed          Rural             202.21   NaN     never smoked   \n",
       "2        Private          Rural             105.92  32.5     never smoked   \n",
       "3        Private          Urban             171.23  34.4           smokes   \n",
       "4  Self-employed          Rural             174.12  24.0     never smoked   \n",
       "\n",
       "   stroke  \n",
       "0       1  \n",
       "1       1  \n",
       "2       1  \n",
       "3       1  \n",
       "4       1  "
      ]
     },
     "execution_count": 4,
     "metadata": {},
     "output_type": "execute_result"
    }
   ],
   "source": [
    "data.head()"
   ]
  },
  {
   "cell_type": "code",
   "execution_count": 5,
   "id": "ec4fdee2",
   "metadata": {
    "execution": {
     "iopub.execute_input": "2023-10-16T15:08:14.137542Z",
     "iopub.status.busy": "2023-10-16T15:08:14.137156Z",
     "iopub.status.idle": "2023-10-16T15:08:14.179307Z",
     "shell.execute_reply": "2023-10-16T15:08:14.177944Z"
    },
    "papermill": {
     "duration": 0.052978,
     "end_time": "2023-10-16T15:08:14.182123",
     "exception": false,
     "start_time": "2023-10-16T15:08:14.129145",
     "status": "completed"
    },
    "tags": []
   },
   "outputs": [],
   "source": [
    "def get_prep_data():\n",
    "    \n",
    "    data[\"doctor\"] = np.random.randint(0, 8, size=len(data))\n",
    "    data[\"smoking_status\"] = data[\"smoking_status\"].astype(\"category\")\n",
    "    data[\"ever_married\"] = data[\"ever_married\"].replace(\"Yes\", True).replace(\"No\", False)\n",
    "    data[\"gender\"] = data[\"gender\"].astype(\"category\")\n",
    "    data[\"Residence_type\"] = data[\"Residence_type\"].astype(\"category\")\n",
    "    data[\"work_type\"] = data[\"work_type\"].astype(\"category\")\n",
    "    holdout_ids = data.sample(n= 300, random_state = 32).index\n",
    "    \n",
    "    train = ( \n",
    "        \n",
    "        data.loc[~data.id.isin(holdout_ids)]\n",
    "        .sample(frac =1, random_state = 32)\n",
    "        .sort_values(\"doctor\")\n",
    "        .reset_index(drop = True)\n",
    "        )\n",
    "    \n",
    "    holdout = ( \n",
    "        data.loc[data.index.isin(holdout_ids)]\n",
    "        .sample(frac =1, random_state =32)\n",
    "        \n",
    "        .sort_values(\"doctor\")\n",
    "        .reset_index(drop = True)\n",
    "      )\n",
    "    \n",
    "    return train, holdout\n",
    "train, holdout = get_prep_data()\n",
    "    "
   ]
  },
  {
   "cell_type": "code",
   "execution_count": 6,
   "id": "10ee5c84",
   "metadata": {
    "execution": {
     "iopub.execute_input": "2023-10-16T15:08:14.198082Z",
     "iopub.status.busy": "2023-10-16T15:08:14.197695Z",
     "iopub.status.idle": "2023-10-16T15:08:14.214836Z",
     "shell.execute_reply": "2023-10-16T15:08:14.213990Z"
    },
    "papermill": {
     "duration": 0.027762,
     "end_time": "2023-10-16T15:08:14.216893",
     "exception": false,
     "start_time": "2023-10-16T15:08:14.189131",
     "status": "completed"
    },
    "tags": []
   },
   "outputs": [
    {
     "data": {
      "text/html": [
       "<div>\n",
       "<style scoped>\n",
       "    .dataframe tbody tr th:only-of-type {\n",
       "        vertical-align: middle;\n",
       "    }\n",
       "\n",
       "    .dataframe tbody tr th {\n",
       "        vertical-align: top;\n",
       "    }\n",
       "\n",
       "    .dataframe thead th {\n",
       "        text-align: right;\n",
       "    }\n",
       "</style>\n",
       "<table border=\"1\" class=\"dataframe\">\n",
       "  <thead>\n",
       "    <tr style=\"text-align: right;\">\n",
       "      <th></th>\n",
       "      <th>id</th>\n",
       "      <th>gender</th>\n",
       "      <th>age</th>\n",
       "      <th>hypertension</th>\n",
       "      <th>heart_disease</th>\n",
       "      <th>ever_married</th>\n",
       "      <th>work_type</th>\n",
       "      <th>Residence_type</th>\n",
       "      <th>avg_glucose_level</th>\n",
       "      <th>bmi</th>\n",
       "      <th>smoking_status</th>\n",
       "      <th>stroke</th>\n",
       "      <th>doctor</th>\n",
       "    </tr>\n",
       "  </thead>\n",
       "  <tbody>\n",
       "    <tr>\n",
       "      <th>0</th>\n",
       "      <td>15528</td>\n",
       "      <td>Male</td>\n",
       "      <td>58.0</td>\n",
       "      <td>1</td>\n",
       "      <td>0</td>\n",
       "      <td>True</td>\n",
       "      <td>Private</td>\n",
       "      <td>Rural</td>\n",
       "      <td>223.36</td>\n",
       "      <td>41.5</td>\n",
       "      <td>formerly smoked</td>\n",
       "      <td>0</td>\n",
       "      <td>0</td>\n",
       "    </tr>\n",
       "    <tr>\n",
       "      <th>1</th>\n",
       "      <td>24892</td>\n",
       "      <td>Male</td>\n",
       "      <td>64.0</td>\n",
       "      <td>0</td>\n",
       "      <td>0</td>\n",
       "      <td>True</td>\n",
       "      <td>Private</td>\n",
       "      <td>Rural</td>\n",
       "      <td>97.08</td>\n",
       "      <td>31.7</td>\n",
       "      <td>Unknown</td>\n",
       "      <td>0</td>\n",
       "      <td>0</td>\n",
       "    </tr>\n",
       "    <tr>\n",
       "      <th>2</th>\n",
       "      <td>51257</td>\n",
       "      <td>Male</td>\n",
       "      <td>32.0</td>\n",
       "      <td>0</td>\n",
       "      <td>0</td>\n",
       "      <td>False</td>\n",
       "      <td>Private</td>\n",
       "      <td>Rural</td>\n",
       "      <td>72.10</td>\n",
       "      <td>23.2</td>\n",
       "      <td>never smoked</td>\n",
       "      <td>0</td>\n",
       "      <td>0</td>\n",
       "    </tr>\n",
       "    <tr>\n",
       "      <th>3</th>\n",
       "      <td>58936</td>\n",
       "      <td>Male</td>\n",
       "      <td>59.0</td>\n",
       "      <td>0</td>\n",
       "      <td>0</td>\n",
       "      <td>True</td>\n",
       "      <td>Private</td>\n",
       "      <td>Rural</td>\n",
       "      <td>203.16</td>\n",
       "      <td>43.4</td>\n",
       "      <td>Unknown</td>\n",
       "      <td>0</td>\n",
       "      <td>0</td>\n",
       "    </tr>\n",
       "    <tr>\n",
       "      <th>4</th>\n",
       "      <td>47456</td>\n",
       "      <td>Male</td>\n",
       "      <td>30.0</td>\n",
       "      <td>0</td>\n",
       "      <td>0</td>\n",
       "      <td>True</td>\n",
       "      <td>Private</td>\n",
       "      <td>Rural</td>\n",
       "      <td>58.89</td>\n",
       "      <td>26.1</td>\n",
       "      <td>formerly smoked</td>\n",
       "      <td>0</td>\n",
       "      <td>0</td>\n",
       "    </tr>\n",
       "  </tbody>\n",
       "</table>\n",
       "</div>"
      ],
      "text/plain": [
       "      id gender   age  hypertension  heart_disease  ever_married work_type  \\\n",
       "0  15528   Male  58.0             1              0          True   Private   \n",
       "1  24892   Male  64.0             0              0          True   Private   \n",
       "2  51257   Male  32.0             0              0         False   Private   \n",
       "3  58936   Male  59.0             0              0          True   Private   \n",
       "4  47456   Male  30.0             0              0          True   Private   \n",
       "\n",
       "  Residence_type  avg_glucose_level   bmi   smoking_status  stroke  doctor  \n",
       "0          Rural             223.36  41.5  formerly smoked       0       0  \n",
       "1          Rural              97.08  31.7          Unknown       0       0  \n",
       "2          Rural              72.10  23.2     never smoked       0       0  \n",
       "3          Rural             203.16  43.4          Unknown       0       0  \n",
       "4          Rural              58.89  26.1  formerly smoked       0       0  "
      ]
     },
     "execution_count": 6,
     "metadata": {},
     "output_type": "execute_result"
    }
   ],
   "source": [
    "train.head()"
   ]
  },
  {
   "cell_type": "code",
   "execution_count": 7,
   "id": "7dd87d1e",
   "metadata": {
    "execution": {
     "iopub.execute_input": "2023-10-16T15:08:14.231882Z",
     "iopub.status.busy": "2023-10-16T15:08:14.231411Z",
     "iopub.status.idle": "2023-10-16T15:08:14.238397Z",
     "shell.execute_reply": "2023-10-16T15:08:14.237094Z"
    },
    "papermill": {
     "duration": 0.016868,
     "end_time": "2023-10-16T15:08:14.240254",
     "exception": false,
     "start_time": "2023-10-16T15:08:14.223386",
     "status": "completed"
    },
    "tags": []
   },
   "outputs": [
    {
     "data": {
      "text/plain": [
       "Index(['id', 'gender', 'age', 'hypertension', 'heart_disease', 'ever_married',\n",
       "       'work_type', 'Residence_type', 'avg_glucose_level', 'bmi',\n",
       "       'smoking_status', 'stroke', 'doctor'],\n",
       "      dtype='object')"
      ]
     },
     "execution_count": 7,
     "metadata": {},
     "output_type": "execute_result"
    }
   ],
   "source": [
    "train.columns"
   ]
  },
  {
   "cell_type": "code",
   "execution_count": 8,
   "id": "3c30e96d",
   "metadata": {
    "execution": {
     "iopub.execute_input": "2023-10-16T15:08:14.255011Z",
     "iopub.status.busy": "2023-10-16T15:08:14.254303Z",
     "iopub.status.idle": "2023-10-16T15:08:14.262688Z",
     "shell.execute_reply": "2023-10-16T15:08:14.261615Z"
    },
    "papermill": {
     "duration": 0.018104,
     "end_time": "2023-10-16T15:08:14.264722",
     "exception": false,
     "start_time": "2023-10-16T15:08:14.246618",
     "status": "completed"
    },
    "tags": []
   },
   "outputs": [],
   "source": [
    "def get_x_y():\n",
    "    \n",
    "    FEATURES = ['id', 'gender', 'age', 'hypertension', 'heart_disease', 'ever_married',\n",
    "           'work_type', 'Residence_type', 'avg_glucose_level', 'bmi',\n",
    "           'smoking_status', 'stroke', 'doctor']\n",
    "\n",
    "    GROUP = \"doctor\"\n",
    "\n",
    "    TARGET = \"stroke\"\n",
    "    \n",
    "    x = data[FEATURES]\n",
    "    y = data[TARGET]\n",
    "    groups = data[GROUP]\n",
    "    \n",
    "    return x, y, groups, FEATURES\n",
    "x, y, groups, FEATURES = get_x_y()\n",
    "    \n",
    " "
   ]
  },
  {
   "cell_type": "code",
   "execution_count": 9,
   "id": "545575b5",
   "metadata": {
    "execution": {
     "iopub.execute_input": "2023-10-16T15:08:14.279024Z",
     "iopub.status.busy": "2023-10-16T15:08:14.278654Z",
     "iopub.status.idle": "2023-10-16T15:08:14.285493Z",
     "shell.execute_reply": "2023-10-16T15:08:14.283731Z"
    },
    "papermill": {
     "duration": 0.016521,
     "end_time": "2023-10-16T15:08:14.287487",
     "exception": false,
     "start_time": "2023-10-16T15:08:14.270966",
     "status": "completed"
    },
    "tags": []
   },
   "outputs": [
    {
     "name": "stdout",
     "output_type": "stream",
     "text": [
      "['id', 'gender', 'age', 'hypertension', 'heart_disease', 'ever_married', 'work_type', 'Residence_type', 'avg_glucose_level', 'bmi', 'smoking_status', 'stroke', 'doctor']\n"
     ]
    }
   ],
   "source": [
    "print(FEATURES)"
   ]
  },
  {
   "cell_type": "markdown",
   "id": "5ceb33f6",
   "metadata": {
    "papermill": {
     "duration": 0.006364,
     "end_time": "2023-10-16T15:08:14.301082",
     "exception": false,
     "start_time": "2023-10-16T15:08:14.294718",
     "status": "completed"
    },
    "tags": []
   },
   "source": []
  },
  {
   "cell_type": "code",
   "execution_count": 10,
   "id": "0ec00fad",
   "metadata": {
    "execution": {
     "iopub.execute_input": "2023-10-16T15:08:14.315468Z",
     "iopub.status.busy": "2023-10-16T15:08:14.315121Z",
     "iopub.status.idle": "2023-10-16T15:08:14.419102Z",
     "shell.execute_reply": "2023-10-16T15:08:14.418021Z"
    },
    "papermill": {
     "duration": 0.114065,
     "end_time": "2023-10-16T15:08:14.421583",
     "exception": false,
     "start_time": "2023-10-16T15:08:14.307518",
     "status": "completed"
    },
    "tags": []
   },
   "outputs": [
    {
     "data": {
      "text/html": [
       "<style>#sk-container-id-1 {color: black;background-color: white;}#sk-container-id-1 pre{padding: 0;}#sk-container-id-1 div.sk-toggleable {background-color: white;}#sk-container-id-1 label.sk-toggleable__label {cursor: pointer;display: block;width: 100%;margin-bottom: 0;padding: 0.3em;box-sizing: border-box;text-align: center;}#sk-container-id-1 label.sk-toggleable__label-arrow:before {content: \"▸\";float: left;margin-right: 0.25em;color: #696969;}#sk-container-id-1 label.sk-toggleable__label-arrow:hover:before {color: black;}#sk-container-id-1 div.sk-estimator:hover label.sk-toggleable__label-arrow:before {color: black;}#sk-container-id-1 div.sk-toggleable__content {max-height: 0;max-width: 0;overflow: hidden;text-align: left;background-color: #f0f8ff;}#sk-container-id-1 div.sk-toggleable__content pre {margin: 0.2em;color: black;border-radius: 0.25em;background-color: #f0f8ff;}#sk-container-id-1 input.sk-toggleable__control:checked~div.sk-toggleable__content {max-height: 200px;max-width: 100%;overflow: auto;}#sk-container-id-1 input.sk-toggleable__control:checked~label.sk-toggleable__label-arrow:before {content: \"▾\";}#sk-container-id-1 div.sk-estimator input.sk-toggleable__control:checked~label.sk-toggleable__label {background-color: #d4ebff;}#sk-container-id-1 div.sk-label input.sk-toggleable__control:checked~label.sk-toggleable__label {background-color: #d4ebff;}#sk-container-id-1 input.sk-hidden--visually {border: 0;clip: rect(1px 1px 1px 1px);clip: rect(1px, 1px, 1px, 1px);height: 1px;margin: -1px;overflow: hidden;padding: 0;position: absolute;width: 1px;}#sk-container-id-1 div.sk-estimator {font-family: monospace;background-color: #f0f8ff;border: 1px dotted black;border-radius: 0.25em;box-sizing: border-box;margin-bottom: 0.5em;}#sk-container-id-1 div.sk-estimator:hover {background-color: #d4ebff;}#sk-container-id-1 div.sk-parallel-item::after {content: \"\";width: 100%;border-bottom: 1px solid gray;flex-grow: 1;}#sk-container-id-1 div.sk-label:hover label.sk-toggleable__label {background-color: #d4ebff;}#sk-container-id-1 div.sk-serial::before {content: \"\";position: absolute;border-left: 1px solid gray;box-sizing: border-box;top: 0;bottom: 0;left: 50%;z-index: 0;}#sk-container-id-1 div.sk-serial {display: flex;flex-direction: column;align-items: center;background-color: white;padding-right: 0.2em;padding-left: 0.2em;position: relative;}#sk-container-id-1 div.sk-item {position: relative;z-index: 1;}#sk-container-id-1 div.sk-parallel {display: flex;align-items: stretch;justify-content: center;background-color: white;position: relative;}#sk-container-id-1 div.sk-item::before, #sk-container-id-1 div.sk-parallel-item::before {content: \"\";position: absolute;border-left: 1px solid gray;box-sizing: border-box;top: 0;bottom: 0;left: 50%;z-index: -1;}#sk-container-id-1 div.sk-parallel-item {display: flex;flex-direction: column;z-index: 1;position: relative;background-color: white;}#sk-container-id-1 div.sk-parallel-item:first-child::after {align-self: flex-end;width: 50%;}#sk-container-id-1 div.sk-parallel-item:last-child::after {align-self: flex-start;width: 50%;}#sk-container-id-1 div.sk-parallel-item:only-child::after {width: 0;}#sk-container-id-1 div.sk-dashed-wrapped {border: 1px dashed gray;margin: 0 0.4em 0.5em 0.4em;box-sizing: border-box;padding-bottom: 0.4em;background-color: white;}#sk-container-id-1 div.sk-label label {font-family: monospace;font-weight: bold;display: inline-block;line-height: 1.2em;}#sk-container-id-1 div.sk-label-container {text-align: center;}#sk-container-id-1 div.sk-container {/* jupyter's `normalize.less` sets `[hidden] { display: none; }` but bootstrap.min.css set `[hidden] { display: none !important; }` so we also need the `!important` here to be able to override the default hidden behavior on the sphinx rendered scikit-learn.org. See: https://github.com/scikit-learn/scikit-learn/issues/21755 */display: inline-block !important;position: relative;}#sk-container-id-1 div.sk-text-repr-fallback {display: none;}</style><div id=\"sk-container-id-1\" class=\"sk-top-container\"><div class=\"sk-text-repr-fallback\"><pre>LGBMClassifier(n_estimators=10)</pre><b>In a Jupyter environment, please rerun this cell to show the HTML representation or trust the notebook. <br />On GitHub, the HTML representation is unable to render, please try loading this page with nbviewer.org.</b></div><div class=\"sk-container\" hidden><div class=\"sk-item\"><div class=\"sk-estimator sk-toggleable\"><input class=\"sk-toggleable__control sk-hidden--visually\" id=\"sk-estimator-id-1\" type=\"checkbox\" checked><label for=\"sk-estimator-id-1\" class=\"sk-toggleable__label sk-toggleable__label-arrow\">LGBMClassifier</label><div class=\"sk-toggleable__content\"><pre>LGBMClassifier(n_estimators=10)</pre></div></div></div></div></div>"
      ],
      "text/plain": [
       "LGBMClassifier(n_estimators=10)"
      ]
     },
     "execution_count": 10,
     "metadata": {},
     "output_type": "execute_result"
    }
   ],
   "source": [
    "x, y, groups, FEATURES = get_x_y()\n",
    "\n",
    "clf = lgb.LGBMClassifier(n_estimators = 10)\n",
    "clf.fit(x, y)"
   ]
  },
  {
   "cell_type": "code",
   "execution_count": 11,
   "id": "f6e5a830",
   "metadata": {
    "execution": {
     "iopub.execute_input": "2023-10-16T15:08:14.437029Z",
     "iopub.status.busy": "2023-10-16T15:08:14.436671Z",
     "iopub.status.idle": "2023-10-16T15:08:14.442086Z",
     "shell.execute_reply": "2023-10-16T15:08:14.440761Z"
    },
    "papermill": {
     "duration": 0.016346,
     "end_time": "2023-10-16T15:08:14.444689",
     "exception": false,
     "start_time": "2023-10-16T15:08:14.428343",
     "status": "completed"
    },
    "tags": []
   },
   "outputs": [
    {
     "name": "stdout",
     "output_type": "stream",
     "text": [
      "['id', 'gender', 'age', 'hypertension', 'heart_disease', 'ever_married', 'work_type', 'Residence_type', 'avg_glucose_level', 'bmi', 'smoking_status', 'stroke', 'doctor']\n"
     ]
    }
   ],
   "source": [
    "print(FEATURES)"
   ]
  },
  {
   "cell_type": "code",
   "execution_count": 12,
   "id": "69908124",
   "metadata": {
    "execution": {
     "iopub.execute_input": "2023-10-16T15:08:14.461286Z",
     "iopub.status.busy": "2023-10-16T15:08:14.460177Z",
     "iopub.status.idle": "2023-10-16T15:08:14.466500Z",
     "shell.execute_reply": "2023-10-16T15:08:14.465701Z"
    },
    "papermill": {
     "duration": 0.016464,
     "end_time": "2023-10-16T15:08:14.468446",
     "exception": false,
     "start_time": "2023-10-16T15:08:14.451982",
     "status": "completed"
    },
    "tags": []
   },
   "outputs": [
    {
     "name": "stdout",
     "output_type": "stream",
     "text": [
      "id                      int64\n",
      "gender               category\n",
      "age                   float64\n",
      "hypertension            int64\n",
      "heart_disease           int64\n",
      "ever_married             bool\n",
      "work_type            category\n",
      "Residence_type       category\n",
      "avg_glucose_level     float64\n",
      "bmi                   float64\n",
      "smoking_status       category\n",
      "stroke                  int64\n",
      "doctor                  int64\n",
      "dtype: object\n"
     ]
    }
   ],
   "source": [
    "print(data.dtypes)"
   ]
  },
  {
   "cell_type": "markdown",
   "id": "f8ebe43d",
   "metadata": {
    "papermill": {
     "duration": 0.006805,
     "end_time": "2023-10-16T15:08:14.482535",
     "exception": false,
     "start_time": "2023-10-16T15:08:14.475730",
     "status": "completed"
    },
    "tags": []
   },
   "source": [
    "## Predictions\n"
   ]
  },
  {
   "cell_type": "code",
   "execution_count": 13,
   "id": "76edbada",
   "metadata": {
    "execution": {
     "iopub.execute_input": "2023-10-16T15:08:14.498975Z",
     "iopub.status.busy": "2023-10-16T15:08:14.497881Z",
     "iopub.status.idle": "2023-10-16T15:08:14.524372Z",
     "shell.execute_reply": "2023-10-16T15:08:14.522811Z"
    },
    "papermill": {
     "duration": 0.037268,
     "end_time": "2023-10-16T15:08:14.526808",
     "exception": false,
     "start_time": "2023-10-16T15:08:14.489540",
     "status": "completed"
    },
    "tags": []
   },
   "outputs": [
    {
     "data": {
      "text/plain": [
       "array([0.72343714, 0.72343714, 0.72343714, ..., 0.01789695, 0.01789695,\n",
       "       0.01789695])"
      ]
     },
     "execution_count": 13,
     "metadata": {},
     "output_type": "execute_result"
    }
   ],
   "source": [
    "pred = clf.predict(x)\n",
    "pred_prob = clf.predict_proba(x)[:, 1]\n",
    "pred_prob\n"
   ]
  },
  {
   "cell_type": "markdown",
   "id": "dbb1206a",
   "metadata": {
    "papermill": {
     "duration": 0.006878,
     "end_time": "2023-10-16T15:08:14.541482",
     "exception": false,
     "start_time": "2023-10-16T15:08:14.534604",
     "status": "completed"
    },
    "tags": []
   },
   "source": []
  },
  {
   "cell_type": "code",
   "execution_count": 14,
   "id": "5bbc1c55",
   "metadata": {
    "execution": {
     "iopub.execute_input": "2023-10-16T15:08:14.558473Z",
     "iopub.status.busy": "2023-10-16T15:08:14.557113Z",
     "iopub.status.idle": "2023-10-16T15:08:14.569535Z",
     "shell.execute_reply": "2023-10-16T15:08:14.568738Z"
    },
    "papermill": {
     "duration": 0.023354,
     "end_time": "2023-10-16T15:08:14.572115",
     "exception": false,
     "start_time": "2023-10-16T15:08:14.548761",
     "status": "completed"
    },
    "tags": []
   },
   "outputs": [],
   "source": [
    "from sklearn.metrics import accuracy_score, roc_auc_score\n",
    "\n",
    "acc_score = accuracy_score(y, pred)\n",
    "roc_auc = roc_auc_score(y, pred_prob)  # Corrected the function name\n"
   ]
  },
  {
   "cell_type": "code",
   "execution_count": 15,
   "id": "914e95f6",
   "metadata": {
    "execution": {
     "iopub.execute_input": "2023-10-16T15:08:14.588870Z",
     "iopub.status.busy": "2023-10-16T15:08:14.588494Z",
     "iopub.status.idle": "2023-10-16T15:08:14.595414Z",
     "shell.execute_reply": "2023-10-16T15:08:14.594306Z"
    },
    "papermill": {
     "duration": 0.017863,
     "end_time": "2023-10-16T15:08:14.597327",
     "exception": false,
     "start_time": "2023-10-16T15:08:14.579464",
     "status": "completed"
    },
    "tags": []
   },
   "outputs": [
    {
     "data": {
      "text/plain": [
       "1.0"
      ]
     },
     "execution_count": 15,
     "metadata": {},
     "output_type": "execute_result"
    }
   ],
   "source": [
    "acc_score\n"
   ]
  },
  {
   "cell_type": "code",
   "execution_count": 16,
   "id": "e74d4d64",
   "metadata": {
    "execution": {
     "iopub.execute_input": "2023-10-16T15:08:14.614427Z",
     "iopub.status.busy": "2023-10-16T15:08:14.613845Z",
     "iopub.status.idle": "2023-10-16T15:08:14.619054Z",
     "shell.execute_reply": "2023-10-16T15:08:14.618016Z"
    },
    "papermill": {
     "duration": 0.016189,
     "end_time": "2023-10-16T15:08:14.621087",
     "exception": false,
     "start_time": "2023-10-16T15:08:14.604898",
     "status": "completed"
    },
    "tags": []
   },
   "outputs": [
    {
     "data": {
      "text/plain": [
       "1.0"
      ]
     },
     "execution_count": 16,
     "metadata": {},
     "output_type": "execute_result"
    }
   ],
   "source": [
    "roc_auc"
   ]
  },
  {
   "cell_type": "code",
   "execution_count": 17,
   "id": "85a71683",
   "metadata": {
    "execution": {
     "iopub.execute_input": "2023-10-16T15:08:14.638098Z",
     "iopub.status.busy": "2023-10-16T15:08:14.637522Z",
     "iopub.status.idle": "2023-10-16T15:08:14.651750Z",
     "shell.execute_reply": "2023-10-16T15:08:14.650690Z"
    },
    "papermill": {
     "duration": 0.026184,
     "end_time": "2023-10-16T15:08:14.654926",
     "exception": false,
     "start_time": "2023-10-16T15:08:14.628742",
     "status": "completed"
    },
    "tags": []
   },
   "outputs": [
    {
     "name": "stdout",
     "output_type": "stream",
     "text": [
      "         id  gender   age  hypertension  heart_disease  ever_married  \\\n",
      "0     15528    Male  58.0             1              0          True   \n",
      "1     24892    Male  64.0             0              0          True   \n",
      "2     51257    Male  32.0             0              0         False   \n",
      "3     58936    Male  59.0             0              0          True   \n",
      "4     47456    Male  30.0             0              0          True   \n",
      "...     ...     ...   ...           ...            ...           ...   \n",
      "5085  19498  Female  81.0             0              1         False   \n",
      "5086  59872  Female  38.0             0              0          True   \n",
      "5087  11176    Male   9.0             0              0         False   \n",
      "5088  72361  Female  37.0             0              0          True   \n",
      "5089   9404  Female  44.0             0              0          True   \n",
      "\n",
      "          work_type Residence_type  avg_glucose_level   bmi   smoking_status  \\\n",
      "0           Private          Rural             223.36  41.5  formerly smoked   \n",
      "1           Private          Rural              97.08  31.7          Unknown   \n",
      "2           Private          Rural              72.10  23.2     never smoked   \n",
      "3           Private          Rural             203.16  43.4          Unknown   \n",
      "4           Private          Rural              58.89  26.1  formerly smoked   \n",
      "...             ...            ...                ...   ...              ...   \n",
      "5085  Self-employed          Urban              99.44  27.7          Unknown   \n",
      "5086        Private          Rural              80.82  49.3     never smoked   \n",
      "5087       children          Rural              85.02  16.3          Unknown   \n",
      "5088        Private          Urban              70.75  35.8          Unknown   \n",
      "5089        Private          Rural             107.41  47.3     never smoked   \n",
      "\n",
      "      stroke  doctor  \n",
      "0          0       0  \n",
      "1          0       0  \n",
      "2          0       0  \n",
      "3          0       0  \n",
      "4          0       0  \n",
      "...      ...     ...  \n",
      "5085       0       7  \n",
      "5086       0       7  \n",
      "5087       0       7  \n",
      "5088       0       7  \n",
      "5089       0       7  \n",
      "\n",
      "[5090 rows x 13 columns]\n"
     ]
    }
   ],
   "source": [
    "print(train)"
   ]
  },
  {
   "cell_type": "code",
   "execution_count": 18,
   "id": "5c080b4c",
   "metadata": {
    "execution": {
     "iopub.execute_input": "2023-10-16T15:08:14.672097Z",
     "iopub.status.busy": "2023-10-16T15:08:14.671500Z",
     "iopub.status.idle": "2023-10-16T15:08:14.686862Z",
     "shell.execute_reply": "2023-10-16T15:08:14.685001Z"
    },
    "papermill": {
     "duration": 0.026722,
     "end_time": "2023-10-16T15:08:14.689210",
     "exception": false,
     "start_time": "2023-10-16T15:08:14.662488",
     "status": "completed"
    },
    "tags": []
   },
   "outputs": [
    {
     "name": "stdout",
     "output_type": "stream",
     "text": [
      "        id  gender   age  hypertension  heart_disease  ever_married  \\\n",
      "0    43172  Female  60.0             0              0          True   \n",
      "1    14147    Male  49.0             0              0          True   \n",
      "2     6731  Female  53.0             0              0         False   \n",
      "3    59164  Female  24.0             0              0         False   \n",
      "4    69979    Male  73.0             0              0          True   \n",
      "..     ...     ...   ...           ...            ...           ...   \n",
      "295  44177  Female  60.0             0              0          True   \n",
      "296  25643    Male  36.0             0              0          True   \n",
      "297  32457    Male  62.0             0              0          True   \n",
      "298  31091    Male  34.0             0              1          True   \n",
      "299  38951  Female  50.0             0              0          True   \n",
      "\n",
      "         work_type Residence_type  avg_glucose_level   bmi   smoking_status  \\\n",
      "0          Private          Urban              57.89  30.9  formerly smoked   \n",
      "1          Private          Urban             186.32  43.8           smokes   \n",
      "2          Private          Rural             235.45   NaN  formerly smoked   \n",
      "3          Private          Urban              70.32  20.5          Unknown   \n",
      "4    Self-employed          Rural             231.43  23.0           smokes   \n",
      "..             ...            ...                ...   ...              ...   \n",
      "295  Self-employed          Rural              68.96  30.8          Unknown   \n",
      "296        Private          Rural             119.90  37.6     never smoked   \n",
      "297        Private          Urban              96.37  30.7  formerly smoked   \n",
      "298        Private          Urban             106.23   NaN  formerly smoked   \n",
      "299  Self-employed          Rural              61.54  28.4          Unknown   \n",
      "\n",
      "     stroke  doctor  \n",
      "0         0       0  \n",
      "1         0       0  \n",
      "2         0       0  \n",
      "3         0       0  \n",
      "4         0       0  \n",
      "..      ...     ...  \n",
      "295       0       7  \n",
      "296       0       7  \n",
      "297       0       7  \n",
      "298       0       7  \n",
      "299       0       7  \n",
      "\n",
      "[300 rows x 13 columns]\n"
     ]
    }
   ],
   "source": [
    "print(holdout)"
   ]
  },
  {
   "cell_type": "code",
   "execution_count": 19,
   "id": "9987c021",
   "metadata": {
    "execution": {
     "iopub.execute_input": "2023-10-16T15:08:14.706187Z",
     "iopub.status.busy": "2023-10-16T15:08:14.705840Z",
     "iopub.status.idle": "2023-10-16T15:08:14.711012Z",
     "shell.execute_reply": "2023-10-16T15:08:14.709709Z"
    },
    "papermill": {
     "duration": 0.016592,
     "end_time": "2023-10-16T15:08:14.713298",
     "exception": false,
     "start_time": "2023-10-16T15:08:14.696706",
     "status": "completed"
    },
    "tags": []
   },
   "outputs": [],
   "source": [
    "FEATURES = ['id', 'gender', 'age', 'hypertension', 'heart_disease', 'ever_married',\n",
    "           'work_type', 'Residence_type', 'avg_glucose_level', 'bmi',\n",
    "           'smoking_status', 'stroke', 'doctor']\n",
    "GROUP = \"doctor\"\n",
    "TARGET = \"stroke\"\n",
    "    "
   ]
  },
  {
   "cell_type": "markdown",
   "id": "38362f51",
   "metadata": {
    "papermill": {
     "duration": 0.007039,
     "end_time": "2023-10-16T15:08:14.727882",
     "exception": false,
     "start_time": "2023-10-16T15:08:14.720843",
     "status": "completed"
    },
    "tags": []
   },
   "source": [
    "# check on Holdouts\n"
   ]
  },
  {
   "cell_type": "code",
   "execution_count": 20,
   "id": "9273cd6b",
   "metadata": {
    "execution": {
     "iopub.execute_input": "2023-10-16T15:08:14.744874Z",
     "iopub.status.busy": "2023-10-16T15:08:14.744503Z",
     "iopub.status.idle": "2023-10-16T15:08:14.750209Z",
     "shell.execute_reply": "2023-10-16T15:08:14.748991Z"
    },
    "papermill": {
     "duration": 0.016769,
     "end_time": "2023-10-16T15:08:14.752325",
     "exception": false,
     "start_time": "2023-10-16T15:08:14.735556",
     "status": "completed"
    },
    "tags": []
   },
   "outputs": [],
   "source": [
    "x_holdouts = holdout[FEATURES]\n",
    "y_holdouts = holdout[TARGET]"
   ]
  },
  {
   "cell_type": "code",
   "execution_count": 21,
   "id": "e3ee77e8",
   "metadata": {
    "execution": {
     "iopub.execute_input": "2023-10-16T15:08:14.770503Z",
     "iopub.status.busy": "2023-10-16T15:08:14.770161Z",
     "iopub.status.idle": "2023-10-16T15:08:14.777434Z",
     "shell.execute_reply": "2023-10-16T15:08:14.776172Z"
    },
    "papermill": {
     "duration": 0.018936,
     "end_time": "2023-10-16T15:08:14.779609",
     "exception": false,
     "start_time": "2023-10-16T15:08:14.760673",
     "status": "completed"
    },
    "tags": []
   },
   "outputs": [
    {
     "data": {
      "text/plain": [
       "(300,)"
      ]
     },
     "execution_count": 21,
     "metadata": {},
     "output_type": "execute_result"
    }
   ],
   "source": [
    "x_holdouts.shape\n",
    "y_holdouts.shape"
   ]
  },
  {
   "cell_type": "code",
   "execution_count": 22,
   "id": "7397043e",
   "metadata": {
    "execution": {
     "iopub.execute_input": "2023-10-16T15:08:14.799046Z",
     "iopub.status.busy": "2023-10-16T15:08:14.797508Z",
     "iopub.status.idle": "2023-10-16T15:08:14.805140Z",
     "shell.execute_reply": "2023-10-16T15:08:14.804078Z"
    },
    "papermill": {
     "duration": 0.019203,
     "end_time": "2023-10-16T15:08:14.807317",
     "exception": false,
     "start_time": "2023-10-16T15:08:14.788114",
     "status": "completed"
    },
    "tags": []
   },
   "outputs": [
    {
     "data": {
      "text/plain": [
       "(300,)"
      ]
     },
     "execution_count": 22,
     "metadata": {},
     "output_type": "execute_result"
    }
   ],
   "source": [
    "y_holdouts.shape"
   ]
  },
  {
   "cell_type": "code",
   "execution_count": 23,
   "id": "a8d37feb",
   "metadata": {
    "execution": {
     "iopub.execute_input": "2023-10-16T15:08:14.825167Z",
     "iopub.status.busy": "2023-10-16T15:08:14.824767Z",
     "iopub.status.idle": "2023-10-16T15:08:14.845313Z",
     "shell.execute_reply": "2023-10-16T15:08:14.843741Z"
    },
    "papermill": {
     "duration": 0.032812,
     "end_time": "2023-10-16T15:08:14.848118",
     "exception": false,
     "start_time": "2023-10-16T15:08:14.815306",
     "status": "completed"
    },
    "tags": []
   },
   "outputs": [
    {
     "data": {
      "text/plain": [
       "(300,)"
      ]
     },
     "execution_count": 23,
     "metadata": {},
     "output_type": "execute_result"
    }
   ],
   "source": [
    "predict = clf.predict(x_holdouts)\n",
    "predict_proba = clf.predict_proba(x_holdouts)[:, 1]\n",
    "predict_proba.shape"
   ]
  },
  {
   "cell_type": "code",
   "execution_count": 24,
   "id": "9e5387a2",
   "metadata": {
    "execution": {
     "iopub.execute_input": "2023-10-16T15:08:14.866161Z",
     "iopub.status.busy": "2023-10-16T15:08:14.865741Z",
     "iopub.status.idle": "2023-10-16T15:08:14.878538Z",
     "shell.execute_reply": "2023-10-16T15:08:14.877117Z"
    },
    "papermill": {
     "duration": 0.024815,
     "end_time": "2023-10-16T15:08:14.881132",
     "exception": false,
     "start_time": "2023-10-16T15:08:14.856317",
     "status": "completed"
    },
    "tags": []
   },
   "outputs": [
    {
     "name": "stdout",
     "output_type": "stream",
     "text": [
      "The accuracy :1.0000 and auc :1.0000\n"
     ]
    }
   ],
   "source": [
    "ac = accuracy_score(y_holdouts , predict)\n",
    "auc = roc_auc_score(y_holdouts, predict_proba)\n",
    "\n",
    "print(f\"The accuracy :{ac:0.4f} and auc :{auc:0.4f}\" )\n",
    " "
   ]
  },
  {
   "cell_type": "code",
   "execution_count": null,
   "id": "a69ecc1d",
   "metadata": {
    "papermill": {
     "duration": 0.007242,
     "end_time": "2023-10-16T15:08:14.896538",
     "exception": false,
     "start_time": "2023-10-16T15:08:14.889296",
     "status": "completed"
    },
    "tags": []
   },
   "outputs": [],
   "source": []
  }
 ],
 "metadata": {
  "kernelspec": {
   "display_name": "Python 3",
   "language": "python",
   "name": "python3"
  },
  "language_info": {
   "codemirror_mode": {
    "name": "ipython",
    "version": 3
   },
   "file_extension": ".py",
   "mimetype": "text/x-python",
   "name": "python",
   "nbconvert_exporter": "python",
   "pygments_lexer": "ipython3",
   "version": "3.10.12"
  },
  "papermill": {
   "default_parameters": {},
   "duration": 8.457019,
   "end_time": "2023-10-16T15:08:16.029768",
   "environment_variables": {},
   "exception": null,
   "input_path": "__notebook__.ipynb",
   "output_path": "__notebook__.ipynb",
   "parameters": {},
   "start_time": "2023-10-16T15:08:07.572749",
   "version": "2.4.0"
  }
 },
 "nbformat": 4,
 "nbformat_minor": 5
}
